{
  "nbformat": 4,
  "nbformat_minor": 0,
  "metadata": {
    "colab": {
      "name": "Gravitymodel.ipynb",
      "provenance": [],
      "collapsed_sections": [],
      "authorship_tag": "ABX9TyOcXSzZFDWP7qmuu9QDVUkj",
      "include_colab_link": true
    },
    "kernelspec": {
      "name": "python3",
      "display_name": "Python 3"
    }
  },
  "cells": [
    {
      "cell_type": "markdown",
      "metadata": {
        "id": "view-in-github",
        "colab_type": "text"
      },
      "source": [
        "<a href=\"https://colab.research.google.com/github/Alexflames/risks-code/blob/master/Gravitymodel.ipynb\" target=\"_parent\"><img src=\"https://colab.research.google.com/assets/colab-badge.svg\" alt=\"Open In Colab\"/></a>"
      ]
    },
    {
      "cell_type": "code",
      "metadata": {
        "id": "nuJ76xl_Atpt",
        "colab_type": "code",
        "colab": {
          "base_uri": "https://localhost:8080/",
          "height": 275
        },
        "outputId": "4e3135d6-7090-4989-b8da-4816dc29efb9"
      },
      "source": [
        "import networkx as nx\n",
        "import random as rand\n",
        "\n",
        "def binarySearch(data, val):\n",
        "    highIndex = len(data)-1\n",
        "    lowIndex = 0\n",
        "    while highIndex > lowIndex:\n",
        "            index = (highIndex + lowIndex) // 2\n",
        "            sub = data[index]\n",
        "            if data[lowIndex] == val:\n",
        "                    return [lowIndex, lowIndex]\n",
        "            elif sub == val:\n",
        "                    return [index, index]\n",
        "            elif data[highIndex] == val:\n",
        "                    return [highIndex, highIndex]\n",
        "            elif sub > val:\n",
        "                    if highIndex == index:\n",
        "                            return sorted([highIndex, lowIndex])\n",
        "                    highIndex = index\n",
        "            else:\n",
        "                    if lowIndex == index:\n",
        "                            return sorted([highIndex, lowIndex])\n",
        "                    lowIndex = index\n",
        "    return sorted([highIndex, lowIndex])\n",
        "\n",
        "class Gravitymodel:\n",
        "  def compute_probability_range(self, array, sum_array, tuple_length = 1, tuple_i = 1):\n",
        "    value_p_range = [0]\n",
        "    for (j, value) in enumerate(array):\n",
        "      if tuple_length != 1:\n",
        "        value_p_range.append((value[tuple_i] / sum_array) + value_p_range[j])\n",
        "      else:\n",
        "        value_p_range.append((value / sum_array) + value_p_range[j])\n",
        "    return value_p_range[1:]\n",
        "\n",
        "  def __init__(self, n):\n",
        "    # Preparation: 2 connected nodes\n",
        "    self.graph = nx.Graph()\n",
        "    self.graph.add_nodes_from([1, 2])\n",
        "    self.graph.add_edge(1, 2)\n",
        "    self.n = n\n",
        "\n",
        "    # Main algorithm\n",
        "    for i in range(3, n):\n",
        "      graph = self.graph\n",
        "      sum_degrees = 2 * len(graph.edges)\n",
        "      \n",
        "      degree_p_range = self.compute_probability_range(graph.degree, sum_degrees, 2, 1)\n",
        "      # Insert edge number 1\n",
        "      \n",
        "      choice = rand.random()\n",
        "      graph.add_node(i)\n",
        "      node_to_chosen = binarySearch(degree_p_range, choice)[1]\n",
        "      graph.add_edge(i, node_to_chosen + 1)\n",
        "\n",
        "      # Insert edge number 2\n",
        "      paths = nx.single_source_shortest_path_length(graph, node_to_chosen + 1)\n",
        "      paths_list = [paths[key] for key in sorted(paths.keys(), reverse=True)]\n",
        "      p_range2 = self.compute_probability_range(paths_list, sum(paths_list))\n",
        "      choice2 = rand.random()\n",
        "      node_to_chosen = binarySearch(p_range2, choice2)[1]\n",
        "      graph.add_edge(i, node_to_chosen + 1)\n",
        "\n",
        "      # TODO: визуализация\n",
        "      # TODO: сохранение в файл\n",
        "      \n",
        "      print(i, degree_p_range, graph.edges, \"\\n\")\n",
        "    \n",
        "\n",
        "\n",
        "\n",
        "\n",
        "test = Gravitymodel(10)"
      ],
      "execution_count": 33,
      "outputs": [
        {
          "output_type": "stream",
          "text": [
            "3 [0.5, 1.0] [(1, 2), (1, 3), (2, 3)] \n",
            "\n",
            "4 [0.3333333333333333, 0.6666666666666666, 1.0] [(1, 2), (1, 3), (1, 4), (2, 3), (2, 4)] \n",
            "\n",
            "5 [0.3, 0.6, 0.8, 1.0] [(1, 2), (1, 3), (1, 4), (1, 5), (2, 3), (2, 4), (2, 5)] \n",
            "\n",
            "6 [0.2857142857142857, 0.5714285714285714, 0.7142857142857142, 0.857142857142857, 0.9999999999999998] [(1, 2), (1, 3), (1, 4), (1, 5), (1, 6), (2, 3), (2, 4), (2, 5), (3, 6)] \n",
            "\n",
            "7 [0.2777777777777778, 0.5, 0.6666666666666666, 0.7777777777777777, 0.8888888888888888, 1.0] [(1, 2), (1, 3), (1, 4), (1, 5), (1, 6), (2, 3), (2, 4), (2, 5), (2, 7), (3, 6)] \n",
            "\n",
            "8 [0.25, 0.5, 0.65, 0.75, 0.85, 0.95, 1.0] [(1, 2), (1, 3), (1, 4), (1, 5), (1, 6), (2, 3), (2, 4), (2, 5), (2, 7), (2, 8), (3, 6), (6, 8)] \n",
            "\n",
            "9 [0.20833333333333334, 0.45833333333333337, 0.5833333333333334, 0.6666666666666667, 0.7500000000000001, 0.8750000000000001, 0.9166666666666667, 1.0] [(1, 2), (1, 3), (1, 4), (1, 5), (1, 6), (2, 3), (2, 4), (2, 5), (2, 7), (2, 8), (3, 6), (4, 9), (5, 9), (6, 8)] \n",
            "\n"
          ],
          "name": "stdout"
        }
      ]
    }
  ]
}